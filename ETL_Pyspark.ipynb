{
  "nbformat": 4,
  "nbformat_minor": 0,
  "metadata": {
    "colab": {
      "provenance": [],
      "authorship_tag": "ABX9TyPTt48Z05Az7Ms1ne4/Vg2t",
      "include_colab_link": true
    },
    "kernelspec": {
      "name": "python3",
      "display_name": "Python 3"
    },
    "language_info": {
      "name": "python"
    }
  },
  "cells": [
    {
      "cell_type": "markdown",
      "metadata": {
        "id": "view-in-github",
        "colab_type": "text"
      },
      "source": [
        "<a href=\"https://colab.research.google.com/github/dparedes616/Spark/blob/main/ETL_Pyspark.ipynb\" target=\"_parent\"><img src=\"https://colab.research.google.com/assets/colab-badge.svg\" alt=\"Open In Colab\"/></a>"
      ]
    },
    {
      "cell_type": "markdown",
      "source": [
        "# **Proceso de ETL con PySpark**"
      ],
      "metadata": {
        "id": "LLKu-tSZbLIn"
      }
    },
    {
      "cell_type": "markdown",
      "source": [
        "# **Instalar Pyspark**"
      ],
      "metadata": {
        "id": "3vLCOJDOa_5i"
      }
    },
    {
      "cell_type": "code",
      "execution_count": null,
      "metadata": {
        "colab": {
          "base_uri": "https://localhost:8080/"
        },
        "id": "h-xkUybtp0af",
        "outputId": "b7e919c7-ac78-42de-c2c6-d0f808237cc3"
      },
      "outputs": [
        {
          "output_type": "stream",
          "name": "stdout",
          "text": [
            "Collecting pyspark\n",
            "  Downloading pyspark-3.5.0.tar.gz (316.9 MB)\n",
            "\u001b[2K     \u001b[90m━━━━━━━━━━━━━━━━━━━━━━━━━━━━━━━━━━━━━━━━\u001b[0m \u001b[32m316.9/316.9 MB\u001b[0m \u001b[31m3.5 MB/s\u001b[0m eta \u001b[36m0:00:00\u001b[0m\n",
            "\u001b[?25h  Preparing metadata (setup.py) ... \u001b[?25l\u001b[?25hdone\n",
            "Requirement already satisfied: py4j==0.10.9.7 in /usr/local/lib/python3.10/dist-packages (from pyspark) (0.10.9.7)\n",
            "Building wheels for collected packages: pyspark\n",
            "  Building wheel for pyspark (setup.py) ... \u001b[?25l\u001b[?25hdone\n",
            "  Created wheel for pyspark: filename=pyspark-3.5.0-py2.py3-none-any.whl size=317425345 sha256=f6fb153aa3d6f74053d2e2f7376e7d4f8e3abd83017f924fbbda78f0788a8760\n",
            "  Stored in directory: /root/.cache/pip/wheels/41/4e/10/c2cf2467f71c678cfc8a6b9ac9241e5e44a01940da8fbb17fc\n",
            "Successfully built pyspark\n",
            "Installing collected packages: pyspark\n",
            "Successfully installed pyspark-3.5.0\n"
          ]
        }
      ],
      "source": [
        "!pip install pyspark"
      ]
    },
    {
      "cell_type": "markdown",
      "source": [
        "# **Crear Sesion de Spark**"
      ],
      "metadata": {
        "id": "4_HKT6KiqmOi"
      }
    },
    {
      "cell_type": "markdown",
      "source": [
        "# Importaciones"
      ],
      "metadata": {
        "id": "F6NuAtjrZeRN"
      }
    },
    {
      "cell_type": "code",
      "source": [
        "from pyspark.sql import SparkSession\n",
        "from pyspark import SparkContext\n",
        "from os import truncate\n",
        "from pyspark.sql.functions import lit"
      ],
      "metadata": {
        "id": "xCC0SAEiq1TS"
      },
      "execution_count": null,
      "outputs": []
    },
    {
      "cell_type": "markdown",
      "source": [
        "# Configuraccion Spark Session"
      ],
      "metadata": {
        "id": "TlcXLLF1ZahF"
      }
    },
    {
      "cell_type": "code",
      "source": [
        "SpSession = SparkSession \\\n",
        "            .builder \\\n",
        "            .appName(\"Demo Spark\") \\\n",
        "            .getOrCreate()"
      ],
      "metadata": {
        "id": "_rS7n_E-ZZUz"
      },
      "execution_count": null,
      "outputs": []
    },
    {
      "cell_type": "code",
      "source": [
        "sSpContex = SpSession.sparkContext"
      ],
      "metadata": {
        "id": "Ravp7uElbNON"
      },
      "execution_count": null,
      "outputs": []
    },
    {
      "cell_type": "markdown",
      "source": [
        "# **Carga de Data**"
      ],
      "metadata": {
        "id": "csBSnVkaa5hQ"
      }
    },
    {
      "cell_type": "code",
      "source": [
        "from posixpath import sep\n",
        "data = SpSession.read.csv(\"cars.csv\", header=True, sep=\";\")"
      ],
      "metadata": {
        "id": "4ZIdrR19a8GZ"
      },
      "execution_count": null,
      "outputs": []
    },
    {
      "cell_type": "code",
      "source": [
        "data.show(5)"
      ],
      "metadata": {
        "colab": {
          "base_uri": "https://localhost:8080/"
        },
        "id": "lX9fJgR8cFNV",
        "outputId": "69bad60e-3cac-4d22-e57c-a6e4c5558f42"
      },
      "execution_count": null,
      "outputs": [
        {
          "output_type": "stream",
          "name": "stdout",
          "text": [
            "+--------------------+------+---------+------------+----------+------+------------+-----+------+\n",
            "|                 Car|   MPG|Cylinders|Displacement|Horsepower|Weight|Acceleration|Model|Origin|\n",
            "+--------------------+------+---------+------------+----------+------+------------+-----+------+\n",
            "|              STRING|DOUBLE|      INT|      DOUBLE|    DOUBLE|DOUBLE|      DOUBLE|  INT|   CAT|\n",
            "|Chevrolet Chevell...|  18.0|        8|       307.0|     130.0| 3504.|        12.0|   70|    US|\n",
            "|   Buick Skylark 320|  15.0|        8|       350.0|     165.0| 3693.|        11.5|   70|    US|\n",
            "|  Plymouth Satellite|  18.0|        8|       318.0|     150.0| 3436.|        11.0|   70|    US|\n",
            "|       AMC Rebel SST|  16.0|        8|       304.0|     150.0| 3433.|        12.0|   70|    US|\n",
            "+--------------------+------+---------+------------+----------+------+------------+-----+------+\n",
            "only showing top 5 rows\n",
            "\n"
          ]
        }
      ]
    },
    {
      "cell_type": "markdown",
      "source": [
        "Conociendo la Data"
      ],
      "metadata": {
        "id": "YfjLZSnbcRRU"
      }
    },
    {
      "cell_type": "code",
      "source": [
        "data.printSchema()"
      ],
      "metadata": {
        "colab": {
          "base_uri": "https://localhost:8080/"
        },
        "id": "Gg_Ii8hbcXSE",
        "outputId": "4a0b468d-6d9a-42ec-b455-cad797b0bdef"
      },
      "execution_count": null,
      "outputs": [
        {
          "output_type": "stream",
          "name": "stdout",
          "text": [
            "root\n",
            " |-- Car: string (nullable = true)\n",
            " |-- MPG: string (nullable = true)\n",
            " |-- Cylinders: string (nullable = true)\n",
            " |-- Displacement: string (nullable = true)\n",
            " |-- Horsepower: string (nullable = true)\n",
            " |-- Weight: string (nullable = true)\n",
            " |-- Acceleration: string (nullable = true)\n",
            " |-- Model: string (nullable = true)\n",
            " |-- Origin: string (nullable = true)\n",
            "\n"
          ]
        }
      ]
    },
    {
      "cell_type": "code",
      "source": [
        "data.columns"
      ],
      "metadata": {
        "colab": {
          "base_uri": "https://localhost:8080/"
        },
        "id": "WmD7L5-8c8Fd",
        "outputId": "018a26ea-a180-4463-989f-4ac7909b3fc1"
      },
      "execution_count": null,
      "outputs": [
        {
          "output_type": "execute_result",
          "data": {
            "text/plain": [
              "['Car',\n",
              " 'MPG',\n",
              " 'Cylinders',\n",
              " 'Displacement',\n",
              " 'Horsepower',\n",
              " 'Weight',\n",
              " 'Acceleration',\n",
              " 'Model',\n",
              " 'Origin']"
            ]
          },
          "metadata": {},
          "execution_count": 8
        }
      ]
    },
    {
      "cell_type": "markdown",
      "source": [
        "Selección de Columnas"
      ],
      "metadata": {
        "id": "rh7rqKrUdKAH"
      }
    },
    {
      "cell_type": "code",
      "source": [
        "data.select(data.Car).show(10, truncate=False)"
      ],
      "metadata": {
        "colab": {
          "base_uri": "https://localhost:8080/"
        },
        "id": "wYmUuQqvdBdW",
        "outputId": "1908b8be-2d30-46b8-a559-c24531586020"
      },
      "execution_count": null,
      "outputs": [
        {
          "output_type": "stream",
          "name": "stdout",
          "text": [
            "+-------------------------+\n",
            "|Car                      |\n",
            "+-------------------------+\n",
            "|STRING                   |\n",
            "|Chevrolet Chevelle Malibu|\n",
            "|Buick Skylark 320        |\n",
            "|Plymouth Satellite       |\n",
            "|AMC Rebel SST            |\n",
            "|Ford Torino              |\n",
            "|Ford Galaxie 500         |\n",
            "|Chevrolet Impala         |\n",
            "|Plymouth Fury iii        |\n",
            "|Pontiac Catalina         |\n",
            "+-------------------------+\n",
            "only showing top 10 rows\n",
            "\n"
          ]
        }
      ]
    },
    {
      "cell_type": "code",
      "source": [
        "data.select(data.Car, data.Cylinders).show(10, truncate=False)"
      ],
      "metadata": {
        "colab": {
          "base_uri": "https://localhost:8080/"
        },
        "id": "fTyGy1a__x79",
        "outputId": "6ccacb67-ec89-433d-d352-0e85a0414961"
      },
      "execution_count": null,
      "outputs": [
        {
          "output_type": "stream",
          "name": "stdout",
          "text": [
            "+-------------------------+---------+\n",
            "|Car                      |Cylinders|\n",
            "+-------------------------+---------+\n",
            "|STRING                   |INT      |\n",
            "|Chevrolet Chevelle Malibu|8        |\n",
            "|Buick Skylark 320        |8        |\n",
            "|Plymouth Satellite       |8        |\n",
            "|AMC Rebel SST            |8        |\n",
            "|Ford Torino              |8        |\n",
            "|Ford Galaxie 500         |8        |\n",
            "|Chevrolet Impala         |8        |\n",
            "|Plymouth Fury iii        |8        |\n",
            "|Pontiac Catalina         |8        |\n",
            "+-------------------------+---------+\n",
            "only showing top 10 rows\n",
            "\n"
          ]
        }
      ]
    },
    {
      "cell_type": "markdown",
      "source": [
        "# **Agregar Columnas**"
      ],
      "metadata": {
        "id": "aQUZgZEPDs07"
      }
    },
    {
      "cell_type": "code",
      "source": [
        "df = data.withColumn(\"First_Column\",lit(1))\n",
        "df.show(5, truncate=False)"
      ],
      "metadata": {
        "colab": {
          "base_uri": "https://localhost:8080/"
        },
        "id": "o6-ecuTqDwXN",
        "outputId": "a7880621-7701-4f5a-d082-685fa7af1e04"
      },
      "execution_count": null,
      "outputs": [
        {
          "output_type": "stream",
          "name": "stdout",
          "text": [
            "+-------------------------+------+---------+------------+----------+------+------------+-----+------+------------+\n",
            "|Car                      |MPG   |Cylinders|Displacement|Horsepower|Weight|Acceleration|Model|Origin|First_Column|\n",
            "+-------------------------+------+---------+------------+----------+------+------------+-----+------+------------+\n",
            "|STRING                   |DOUBLE|INT      |DOUBLE      |DOUBLE    |DOUBLE|DOUBLE      |INT  |CAT   |1           |\n",
            "|Chevrolet Chevelle Malibu|18.0  |8        |307.0       |130.0     |3504. |12.0        |70   |US    |1           |\n",
            "|Buick Skylark 320        |15.0  |8        |350.0       |165.0     |3693. |11.5        |70   |US    |1           |\n",
            "|Plymouth Satellite       |18.0  |8        |318.0       |150.0     |3436. |11.0        |70   |US    |1           |\n",
            "|AMC Rebel SST            |16.0  |8        |304.0       |150.0     |3433. |12.0        |70   |US    |1           |\n",
            "+-------------------------+------+---------+------------+----------+------+------------+-----+------+------------+\n",
            "only showing top 5 rows\n",
            "\n"
          ]
        }
      ]
    },
    {
      "cell_type": "code",
      "source": [
        "df = data.withColumn(\"Second_Column\",lit(2)) \\\n",
        "          .withColumn(\"third_column\",lit(\"TRIRD\"))\n",
        "df.show(5, truncate=False)"
      ],
      "metadata": {
        "colab": {
          "base_uri": "https://localhost:8080/"
        },
        "id": "qQkpRi6-Em1y",
        "outputId": "51b7beb6-d396-4976-f413-d3d968b11318"
      },
      "execution_count": null,
      "outputs": [
        {
          "output_type": "stream",
          "name": "stdout",
          "text": [
            "+-------------------------+------+---------+------------+----------+------+------------+-----+------+-------------+------------+\n",
            "|Car                      |MPG   |Cylinders|Displacement|Horsepower|Weight|Acceleration|Model|Origin|Second_Column|third_column|\n",
            "+-------------------------+------+---------+------------+----------+------+------------+-----+------+-------------+------------+\n",
            "|STRING                   |DOUBLE|INT      |DOUBLE      |DOUBLE    |DOUBLE|DOUBLE      |INT  |CAT   |2            |TRIRD       |\n",
            "|Chevrolet Chevelle Malibu|18.0  |8        |307.0       |130.0     |3504. |12.0        |70   |US    |2            |TRIRD       |\n",
            "|Buick Skylark 320        |15.0  |8        |350.0       |165.0     |3693. |11.5        |70   |US    |2            |TRIRD       |\n",
            "|Plymouth Satellite       |18.0  |8        |318.0       |150.0     |3436. |11.0        |70   |US    |2            |TRIRD       |\n",
            "|AMC Rebel SST            |16.0  |8        |304.0       |150.0     |3433. |12.0        |70   |US    |2            |TRIRD       |\n",
            "+-------------------------+------+---------+------------+----------+------+------------+-----+------+-------------+------------+\n",
            "only showing top 5 rows\n",
            "\n"
          ]
        }
      ]
    },
    {
      "cell_type": "markdown",
      "source": [
        "# **Agrupación de Columnas**"
      ],
      "metadata": {
        "id": "KNN4nzHeFAF7"
      }
    },
    {
      "cell_type": "code",
      "source": [
        "df.groupBy(\"Origin\").count().show()"
      ],
      "metadata": {
        "colab": {
          "base_uri": "https://localhost:8080/"
        },
        "id": "sG1-634VFC_s",
        "outputId": "1aa9224a-ceb6-4d73-ecf9-168f176087a1"
      },
      "execution_count": null,
      "outputs": [
        {
          "output_type": "stream",
          "name": "stdout",
          "text": [
            "+------+-----+\n",
            "|Origin|count|\n",
            "+------+-----+\n",
            "|Europe|   73|\n",
            "|    US|  254|\n",
            "|   CAT|    1|\n",
            "| Japan|   79|\n",
            "+------+-----+\n",
            "\n"
          ]
        }
      ]
    },
    {
      "cell_type": "code",
      "source": [
        "df.groupBy(\"Origin\", \"Model\").count().show()"
      ],
      "metadata": {
        "colab": {
          "base_uri": "https://localhost:8080/"
        },
        "id": "VlyORbWrFaEY",
        "outputId": "fdd567f0-cf94-455a-e615-55114eb25873"
      },
      "execution_count": null,
      "outputs": [
        {
          "output_type": "stream",
          "name": "stdout",
          "text": [
            "+------+-----+-----+\n",
            "|Origin|Model|count|\n",
            "+------+-----+-----+\n",
            "| Japan|   76|    4|\n",
            "|    US|   81|   13|\n",
            "|    US|   80|    7|\n",
            "|    US|   76|   22|\n",
            "| Japan|   70|    2|\n",
            "|    US|   78|   22|\n",
            "|Europe|   76|    8|\n",
            "|    US|   70|   27|\n",
            "| Japan|   75|    4|\n",
            "|Europe|   80|    9|\n",
            "| Japan|   77|    6|\n",
            "|Europe|   72|    5|\n",
            "|    US|   75|   20|\n",
            "|    US|   79|   23|\n",
            "|    US|   82|   20|\n",
            "|   CAT|  INT|    1|\n",
            "|Europe|   75|    6|\n",
            "| Japan|   78|    8|\n",
            "|    US|   71|   20|\n",
            "| Japan|   82|    9|\n",
            "+------+-----+-----+\n",
            "only showing top 20 rows\n",
            "\n"
          ]
        }
      ]
    },
    {
      "cell_type": "markdown",
      "source": [
        "# **Elimnar Columnas**"
      ],
      "metadata": {
        "id": "AHrn2ty1FtaI"
      }
    },
    {
      "cell_type": "code",
      "source": [
        "df= df.drop(\"third_column\", \"Second_Column\")\n",
        "df.show(5,truncate=False)"
      ],
      "metadata": {
        "colab": {
          "base_uri": "https://localhost:8080/"
        },
        "id": "YL1te-O2FwYC",
        "outputId": "13128b8f-fb8a-42e5-f51e-24a460d5e878"
      },
      "execution_count": null,
      "outputs": [
        {
          "output_type": "stream",
          "name": "stdout",
          "text": [
            "+-------------------------+------+---------+------------+----------+------+------------+-----+------+\n",
            "|Car                      |MPG   |Cylinders|Displacement|Horsepower|Weight|Acceleration|Model|Origin|\n",
            "+-------------------------+------+---------+------------+----------+------+------------+-----+------+\n",
            "|STRING                   |DOUBLE|INT      |DOUBLE      |DOUBLE    |DOUBLE|DOUBLE      |INT  |CAT   |\n",
            "|Chevrolet Chevelle Malibu|18.0  |8        |307.0       |130.0     |3504. |12.0        |70   |US    |\n",
            "|Buick Skylark 320        |15.0  |8        |350.0       |165.0     |3693. |11.5        |70   |US    |\n",
            "|Plymouth Satellite       |18.0  |8        |318.0       |150.0     |3436. |11.0        |70   |US    |\n",
            "|AMC Rebel SST            |16.0  |8        |304.0       |150.0     |3433. |12.0        |70   |US    |\n",
            "+-------------------------+------+---------+------------+----------+------+------------+-----+------+\n",
            "only showing top 5 rows\n",
            "\n"
          ]
        }
      ]
    },
    {
      "cell_type": "markdown",
      "source": [
        "# **Ordenar Filas**"
      ],
      "metadata": {
        "id": "hLM37RNCGROe"
      }
    },
    {
      "cell_type": "code",
      "source": [
        "df.orderBy(\"Cylinders\", ascending=False).show(5,truncate=False)\n"
      ],
      "metadata": {
        "colab": {
          "base_uri": "https://localhost:8080/"
        },
        "id": "sayP7lf7GUal",
        "outputId": "b923cdf3-a5c1-4d1c-abd3-24d18e46a75d"
      },
      "execution_count": null,
      "outputs": [
        {
          "output_type": "stream",
          "name": "stdout",
          "text": [
            "+-------------------------+------+---------+------------+----------+------+------------+-----+------+\n",
            "|Car                      |MPG   |Cylinders|Displacement|Horsepower|Weight|Acceleration|Model|Origin|\n",
            "+-------------------------+------+---------+------------+----------+------+------------+-----+------+\n",
            "|STRING                   |DOUBLE|INT      |DOUBLE      |DOUBLE    |DOUBLE|DOUBLE      |INT  |CAT   |\n",
            "|Chevrolet Chevelle Malibu|18.0  |8        |307.0       |130.0     |3504. |12.0        |70   |US    |\n",
            "|Buick Skylark 320        |15.0  |8        |350.0       |165.0     |3693. |11.5        |70   |US    |\n",
            "|Plymouth Satellite       |18.0  |8        |318.0       |150.0     |3436. |11.0        |70   |US    |\n",
            "|AMC Rebel SST            |16.0  |8        |304.0       |150.0     |3433. |12.0        |70   |US    |\n",
            "+-------------------------+------+---------+------------+----------+------+------------+-----+------+\n",
            "only showing top 5 rows\n",
            "\n"
          ]
        }
      ]
    },
    {
      "cell_type": "code",
      "source": [
        "df.groupBy(\"Origin\").count().orderBy(\"count\", ascending=False).show(5,truncate=False)"
      ],
      "metadata": {
        "colab": {
          "base_uri": "https://localhost:8080/"
        },
        "id": "x3yF84BTIUPl",
        "outputId": "92fd8648-dc5a-47a4-d78b-cbdc140dca96"
      },
      "execution_count": null,
      "outputs": [
        {
          "output_type": "stream",
          "name": "stdout",
          "text": [
            "+------+-----+\n",
            "|Origin|count|\n",
            "+------+-----+\n",
            "|US    |254  |\n",
            "|Japan |79   |\n",
            "|Europe|73   |\n",
            "|CAT   |1    |\n",
            "+------+-----+\n",
            "\n"
          ]
        }
      ]
    },
    {
      "cell_type": "code",
      "source": [
        "df"
      ],
      "metadata": {
        "colab": {
          "base_uri": "https://localhost:8080/"
        },
        "id": "81rt5PHjZWT_",
        "outputId": "2ba9de13-f8bb-4acc-d0c0-5831b57f4160"
      },
      "execution_count": null,
      "outputs": [
        {
          "output_type": "execute_result",
          "data": {
            "text/plain": [
              "DataFrame[Car: string, MPG: string, Cylinders: string, Displacement: string, Horsepower: string, Weight: string, Acceleration: string, Model: string, Origin: string]"
            ]
          },
          "metadata": {},
          "execution_count": 18
        }
      ]
    },
    {
      "cell_type": "markdown",
      "source": [
        "# **Filtro de Datos**"
      ],
      "metadata": {
        "id": "o7XFgeMsZLSV"
      }
    },
    {
      "cell_type": "code",
      "source": [
        "Total_resgistros = df.count()\n",
        "print(\"El total de registristros del df es de\", Total_resgistros)\n",
        "europa = df.filter(df.Origin==\"Europe\").count()\n",
        "print(\"Total de registros en europa es de\",europa)"
      ],
      "metadata": {
        "colab": {
          "base_uri": "https://localhost:8080/"
        },
        "id": "sPhyTH9DZQc5",
        "outputId": "270310c8-f8e6-4269-db3d-16cac0cbec98"
      },
      "execution_count": null,
      "outputs": [
        {
          "output_type": "stream",
          "name": "stdout",
          "text": [
            "El total de registristros del df es de 407\n",
            "Total de registros en europa es de 73\n"
          ]
        }
      ]
    },
    {
      "cell_type": "code",
      "source": [
        "europa = df.filter(df.Origin==\"Europe\").show(truncate=False)"
      ],
      "metadata": {
        "colab": {
          "base_uri": "https://localhost:8080/"
        },
        "id": "S0R-2zdrZ6Jz",
        "outputId": "d3861ed6-87cf-4c0f-ef71-7e9499b043de"
      },
      "execution_count": null,
      "outputs": [
        {
          "output_type": "stream",
          "name": "stdout",
          "text": [
            "+----------------------------+----+---------+------------+----------+------+------------+-----+------+\n",
            "|Car                         |MPG |Cylinders|Displacement|Horsepower|Weight|Acceleration|Model|Origin|\n",
            "+----------------------------+----+---------+------------+----------+------+------------+-----+------+\n",
            "|Citroen DS-21 Pallas        |0   |4        |133.0       |115.0     |3090. |17.5        |70   |Europe|\n",
            "|Volkswagen 1131 Deluxe Sedan|26.0|4        |97.00       |46.00     |1835. |20.5        |70   |Europe|\n",
            "|Peugeot 504                 |25.0|4        |110.0       |87.00     |2672. |17.5        |70   |Europe|\n",
            "|Audi 100 LS                 |24.0|4        |107.0       |90.00     |2430. |14.5        |70   |Europe|\n",
            "|Saab 99e                    |25.0|4        |104.0       |95.00     |2375. |17.5        |70   |Europe|\n",
            "|BMW 2002                    |26.0|4        |121.0       |113.0     |2234. |12.5        |70   |Europe|\n",
            "|Volkswagen Super Beetle 117 |0   |4        |97.00       |48.00     |1978. |20.0        |71   |Europe|\n",
            "|Opel 1900                   |28.0|4        |116.0       |90.00     |2123. |14.0        |71   |Europe|\n",
            "|Peugeot 304                 |30.0|4        |79.00       |70.00     |2074. |19.5        |71   |Europe|\n",
            "|Fiat 124B                   |30.0|4        |88.00       |76.00     |2065. |14.5        |71   |Europe|\n",
            "|Volkswagen Model 111        |27.0|4        |97.00       |60.00     |1834. |19.0        |71   |Europe|\n",
            "|Volkswagen Type 3           |23.0|4        |97.00       |54.00     |2254. |23.5        |72   |Europe|\n",
            "|Volvo 145e (sw)             |18.0|4        |121.0       |112.0     |2933. |14.5        |72   |Europe|\n",
            "|Volkswagen 411 (sw)         |22.0|4        |121.0       |76.00     |2511. |18.0        |72   |Europe|\n",
            "|Peugeot 504 (sw)            |21.0|4        |120.0       |87.00     |2979. |19.5        |72   |Europe|\n",
            "|Renault 12 (sw)             |26.0|4        |96.00       |69.00     |2189. |18.0        |72   |Europe|\n",
            "|Volkswagen Super Beetle     |26.0|4        |97.00       |46.00     |1950. |21.0        |73   |Europe|\n",
            "|Fiat 124 Sport Coupe        |26.0|4        |98.00       |90.00     |2265. |15.5        |73   |Europe|\n",
            "|Fiat 128                    |29.0|4        |68.00       |49.00     |1867. |19.5        |73   |Europe|\n",
            "|Opel Manta                  |24.0|4        |116.0       |75.00     |2158. |15.5        |73   |Europe|\n",
            "+----------------------------+----+---------+------------+----------+------+------------+-----+------+\n",
            "only showing top 20 rows\n",
            "\n"
          ]
        }
      ]
    },
    {
      "cell_type": "code",
      "source": [
        "Total_resgistros = df.count()\n",
        "print(\"El total de registristros del df es de\", Total_resgistros)\n",
        "usa = df.filter((df.Origin==\"US\")&(df.Horsepower==130)).count()\n",
        "print(\"Total de registros en estados con caballos de fuerza igual a 130 es de\",usa)\n"
      ],
      "metadata": {
        "colab": {
          "base_uri": "https://localhost:8080/"
        },
        "id": "aLe54GYocNhL",
        "outputId": "4911fb7e-1a79-4fb2-c30a-ba7a0856d892"
      },
      "execution_count": null,
      "outputs": [
        {
          "output_type": "stream",
          "name": "stdout",
          "text": [
            "El total de registristros del df es de 407\n",
            "Total de registros en estados con caballos de fuerza igual a 130 es de 5\n"
          ]
        }
      ]
    },
    {
      "cell_type": "code",
      "source": [
        "usa = df.filter((df.Origin==\"US\")&(df.Horsepower==130)).show(truncate=False)"
      ],
      "metadata": {
        "colab": {
          "base_uri": "https://localhost:8080/"
        },
        "id": "8o4RJRiWeknP",
        "outputId": "81c0fa7f-a8db-4d64-e1f8-8e570e6cdc2b"
      },
      "execution_count": null,
      "outputs": [
        {
          "output_type": "stream",
          "name": "stdout",
          "text": [
            "+--------------------------------+----+---------+------------+----------+------+------------+-----+------+\n",
            "|Car                             |MPG |Cylinders|Displacement|Horsepower|Weight|Acceleration|Model|Origin|\n",
            "+--------------------------------+----+---------+------------+----------+------+------------+-----+------+\n",
            "|Chevrolet Chevelle Malibu       |18.0|8        |307.0       |130.0     |3504. |12.0        |70   |US    |\n",
            "|Chevrolet Chevelle Concours (sw)|13.0|8        |307.0       |130.0     |4098. |14.0        |72   |US    |\n",
            "|Ford F108                       |13.0|8        |302.0       |130.0     |3870. |15.0        |76   |US    |\n",
            "|Mercury Cougar Brougham         |15.0|8        |302.0       |130.0     |4295. |14.9        |77   |US    |\n",
            "|Chevrolet Caprice Classic       |17.0|8        |305.0       |130.0     |3840. |15.4        |79   |US    |\n",
            "+--------------------------------+----+---------+------------+----------+------+------------+-----+------+\n",
            "\n"
          ]
        }
      ]
    }
  ]
}